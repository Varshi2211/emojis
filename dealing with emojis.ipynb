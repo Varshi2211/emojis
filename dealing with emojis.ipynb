{
 "cells": [
  {
   "cell_type": "code",
   "execution_count": 5,
   "id": "e1e40997-c23f-4b87-b358-540244cf52e4",
   "metadata": {},
   "outputs": [
    {
     "name": "stdout",
     "output_type": "stream",
     "text": [
      "Requirement already satisfied: emot in c:\\users\\nehav\\anaconda3\\lib\\site-packages (3.1)\n"
     ]
    }
   ],
   "source": [
    "#Installing emot library\n",
    "!pip install emot"
   ]
  },
  {
   "cell_type": "code",
   "execution_count": 21,
   "id": "e8cd6a34-1529-4c9c-8687-1e3ba1d6ac9a",
   "metadata": {},
   "outputs": [],
   "source": [
    "text1=\"hello 😊.and why are you so 😍\""
   ]
  },
  {
   "cell_type": "code",
   "execution_count": 6,
   "id": "4ac361ac-2c2a-4f87-953a-a4706caed49c",
   "metadata": {},
   "outputs": [],
   "source": [
    "import re\n",
    "from emot.emo_unicode import UNICODE_EMOJI\n",
    "from emot.emo_unicode import EMOTICONS_EMO"
   ]
  },
  {
   "cell_type": "code",
   "execution_count": 23,
   "id": "2184d48d-7782-4296-a553-cdafe7bcdd44",
   "metadata": {},
   "outputs": [
    {
     "data": {
      "text/plain": [
       "'hello smiling_face_with_smiling_eyes.and why are you so smiling_face_with_heart-eyes'"
      ]
     },
     "execution_count": 23,
     "metadata": {},
     "output_type": "execute_result"
    }
   ],
   "source": [
    "import re\n",
    "from emot.emo_unicode import UNICODE_EMOJI\n",
    "from emot.emo_unicode import EMOTICONS_EMO\n",
    "\n",
    "def converting_emojis(text):\n",
    "    for emot in UNICODE_EMOJI:\n",
    "        text = text.replace(emot, \"_\".join(UNICODE_EMOJI[emot].replace(\",\", \"\").replace(\":\", \"\").split()))\n",
    "    return text\n",
    "\n",
    "converting_emojis(text1)"
   ]
  },
  {
   "cell_type": "code",
   "execution_count": 25,
   "id": "8273dce2-3a4d-4a9b-9cf7-131e74a47e36",
   "metadata": {},
   "outputs": [
    {
     "data": {
      "text/plain": [
       "'hello .and why are you so '"
      ]
     },
     "execution_count": 25,
     "metadata": {},
     "output_type": "execute_result"
    }
   ],
   "source": [
    "def emoji_removal(string):\n",
    "    emoji_unicodes = re.compile(\"[\" \n",
    "        u\"\\U0001F600-\\U0001F64F\" \n",
    "        u\"\\U0001F300-\\U0001F5FF\" \n",
    "        u\"\\U0001F680-\\U0001F6FF\" \n",
    "        u\"\\U0001F1E0-\\U0001F1FF\" \n",
    "        u\"\\U00002500-\\U00002BEF\" \n",
    "        u\"\\U00002702-\\U000027B0\" \n",
    "        u\"\\U000024C2-\\U0001F251\" \n",
    "        u\"\\U0001f926-\\U0001f937\" \n",
    "        u\"\\U00010000-\\U0010ffff\" \n",
    "        u\"\\u2640-\\u2642\" \n",
    "        u\"\\u2600-\\u2B55\" \n",
    "        u\"\\u200d\" \n",
    "        u\"\\u23cf\" \n",
    "        u\"\\u23e9\" \n",
    "        u\"\\u231a\" \n",
    "        u\"\\ufe0f\" \n",
    "        u\"\\u3030\"\n",
    "        \"]+\", flags=re.UNICODE)\n",
    "    return emoji_unicodes.sub(r'', string)\n",
    "\n",
    "emoji_removal(text1)"
   ]
  },
  {
   "cell_type": "code",
   "execution_count": null,
   "id": "70c351bd-7528-4330-9415-85e3b4ed03bc",
   "metadata": {},
   "outputs": [],
   "source": []
  }
 ],
 "metadata": {
  "kernelspec": {
   "display_name": "Python [conda env:base] *",
   "language": "python",
   "name": "conda-base-py"
  },
  "language_info": {
   "codemirror_mode": {
    "name": "ipython",
    "version": 3
   },
   "file_extension": ".py",
   "mimetype": "text/x-python",
   "name": "python",
   "nbconvert_exporter": "python",
   "pygments_lexer": "ipython3",
   "version": "3.12.7"
  }
 },
 "nbformat": 4,
 "nbformat_minor": 5
}
